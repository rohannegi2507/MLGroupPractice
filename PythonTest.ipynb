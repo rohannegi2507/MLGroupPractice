{
  "nbformat": 4,
  "nbformat_minor": 0,
  "metadata": {
    "colab": {
      "name": "PythonTest.ipynb",
      "provenance": [],
      "collapsed_sections": [],
      "authorship_tag": "ABX9TyMcIJoxOZ75l30xW1uCFY3Q",
      "include_colab_link": true
    },
    "kernelspec": {
      "name": "python3",
      "display_name": "Python 3"
    }
  },
  "cells": [
    {
      "cell_type": "markdown",
      "metadata": {
        "id": "view-in-github",
        "colab_type": "text"
      },
      "source": [
        "<a href=\"https://colab.research.google.com/github/rohannegi2507/MLGroupPractice/blob/Rohan_Python/PythonTest.ipynb\" target=\"_parent\"><img src=\"https://colab.research.google.com/assets/colab-badge.svg\" alt=\"Open In Colab\"/></a>"
      ]
    },
    {
      "cell_type": "code",
      "metadata": {
        "id": "dkW2zyRUqTDY"
      },
      "source": [
        "import pandas as pd\r\n"
      ],
      "execution_count": 20,
      "outputs": []
    },
    {
      "cell_type": "code",
      "metadata": {
        "colab": {
          "base_uri": "https://localhost:8080/",
          "height": 373
        },
        "id": "PmFP2CJwrO8P",
        "outputId": "631247a6-f5f5-4dea-c4f2-c8a9f0cd45dc"
      },
      "source": [
        "dfs = pd.read_excel(\"/content/PythonSheet.xlsx\")\r\n",
        "dfs\r\n"
      ],
      "execution_count": 21,
      "outputs": [
        {
          "output_type": "execute_result",
          "data": {
            "text/html": [
              "<div>\n",
              "<style scoped>\n",
              "    .dataframe tbody tr th:only-of-type {\n",
              "        vertical-align: middle;\n",
              "    }\n",
              "\n",
              "    .dataframe tbody tr th {\n",
              "        vertical-align: top;\n",
              "    }\n",
              "\n",
              "    .dataframe thead th {\n",
              "        text-align: right;\n",
              "    }\n",
              "</style>\n",
              "<table border=\"1\" class=\"dataframe\">\n",
              "  <thead>\n",
              "    <tr style=\"text-align: right;\">\n",
              "      <th></th>\n",
              "      <th>Item Name</th>\n",
              "      <th>Level</th>\n",
              "      <th>Raw material</th>\n",
              "      <th>Quantity</th>\n",
              "      <th>Unit</th>\n",
              "    </tr>\n",
              "  </thead>\n",
              "  <tbody>\n",
              "    <tr>\n",
              "      <th>0</th>\n",
              "      <td>Fan</td>\n",
              "      <td>0.1</td>\n",
              "      <td>Motor</td>\n",
              "      <td>1.0</td>\n",
              "      <td>PC</td>\n",
              "    </tr>\n",
              "    <tr>\n",
              "      <th>1</th>\n",
              "      <td>Fan</td>\n",
              "      <td>..2</td>\n",
              "      <td>Wires</td>\n",
              "      <td>20.0</td>\n",
              "      <td>m</td>\n",
              "    </tr>\n",
              "    <tr>\n",
              "      <th>2</th>\n",
              "      <td>Fan</td>\n",
              "      <td>..2</td>\n",
              "      <td>Plates</td>\n",
              "      <td>2.0</td>\n",
              "      <td>PC</td>\n",
              "    </tr>\n",
              "    <tr>\n",
              "      <th>3</th>\n",
              "      <td>Fan</td>\n",
              "      <td>0.1</td>\n",
              "      <td>Blades</td>\n",
              "      <td>3.0</td>\n",
              "      <td>PC</td>\n",
              "    </tr>\n",
              "    <tr>\n",
              "      <th>4</th>\n",
              "      <td>Fan</td>\n",
              "      <td>0.1</td>\n",
              "      <td>Screws</td>\n",
              "      <td>10.0</td>\n",
              "      <td>PC</td>\n",
              "    </tr>\n",
              "    <tr>\n",
              "      <th>5</th>\n",
              "      <td>Toy</td>\n",
              "      <td>0.1</td>\n",
              "      <td>Plastic sheet</td>\n",
              "      <td>1.0</td>\n",
              "      <td>SqM</td>\n",
              "    </tr>\n",
              "    <tr>\n",
              "      <th>6</th>\n",
              "      <td>Toy</td>\n",
              "      <td>0.1</td>\n",
              "      <td>Metal Tools</td>\n",
              "      <td>3.0</td>\n",
              "      <td>Pc</td>\n",
              "    </tr>\n",
              "    <tr>\n",
              "      <th>7</th>\n",
              "      <td>Toy</td>\n",
              "      <td>..2</td>\n",
              "      <td>Iron chips</td>\n",
              "      <td>10.0</td>\n",
              "      <td>Pc</td>\n",
              "    </tr>\n",
              "    <tr>\n",
              "      <th>8</th>\n",
              "      <td>Toy</td>\n",
              "      <td>..2</td>\n",
              "      <td>Copper granule</td>\n",
              "      <td>0.5</td>\n",
              "      <td>Kg</td>\n",
              "    </tr>\n",
              "    <tr>\n",
              "      <th>9</th>\n",
              "      <td>Toy</td>\n",
              "      <td>..3</td>\n",
              "      <td>Copper Dust</td>\n",
              "      <td>1.0</td>\n",
              "      <td>Kg</td>\n",
              "    </tr>\n",
              "    <tr>\n",
              "      <th>10</th>\n",
              "      <td>Toy</td>\n",
              "      <td>0.1</td>\n",
              "      <td>Packaging Box</td>\n",
              "      <td>1.0</td>\n",
              "      <td>Pc</td>\n",
              "    </tr>\n",
              "  </tbody>\n",
              "</table>\n",
              "</div>"
            ],
            "text/plain": [
              "   Item Name Level    Raw material  Quantity Unit\n",
              "0        Fan   0.1           Motor       1.0   PC\n",
              "1        Fan   ..2           Wires      20.0    m\n",
              "2        Fan   ..2          Plates       2.0   PC\n",
              "3        Fan   0.1          Blades       3.0   PC\n",
              "4        Fan   0.1          Screws      10.0   PC\n",
              "5        Toy   0.1   Plastic sheet       1.0  SqM\n",
              "6        Toy   0.1     Metal Tools       3.0   Pc\n",
              "7        Toy   ..2      Iron chips      10.0   Pc\n",
              "8        Toy   ..2  Copper granule       0.5   Kg\n",
              "9        Toy   ..3     Copper Dust       1.0   Kg\n",
              "10       Toy   0.1   Packaging Box       1.0   Pc"
            ]
          },
          "metadata": {
            "tags": []
          },
          "execution_count": 21
        }
      ]
    },
    {
      "cell_type": "code",
      "metadata": {
        "id": "BB3IfJvXX0-u"
      },
      "source": [
        "dfs.dtypes\r\n",
        "dfs['Level'] = dfs['Level'].astype(str)"
      ],
      "execution_count": 22,
      "outputs": []
    },
    {
      "cell_type": "code",
      "metadata": {
        "id": "9sWQxEx7raEO"
      },
      "source": [
        "items = dfs['Item Name'].unique()"
      ],
      "execution_count": 23,
      "outputs": []
    },
    {
      "cell_type": "code",
      "metadata": {
        "id": "NG1rWr5or4lF"
      },
      "source": [
        "def getRawMaterialInfo(itemName, level):\r\n",
        "  raw = [];\r\n",
        "  for index, row in dfs.iterrows():\r\n",
        "    if(row['Item Name'] == itemName and row['Level'] == level):\r\n",
        "      rm = row['Raw material'];\r\n",
        "      qty = row['Quantity']\r\n",
        "      unit =row['Unit']\r\n",
        "      raw.append([ rm, qty, unit]);\r\n",
        "  return raw    \r\n",
        "      "
      ],
      "execution_count": 24,
      "outputs": []
    },
    {
      "cell_type": "code",
      "metadata": {
        "id": "Jy5bZh19ZGsS"
      },
      "source": [
        "class FinishGood:\r\n",
        "  def __init__(self, name, rawMaterial):\r\n",
        "    self.name = name;\r\n",
        "    self.rawMateral = rawMaterial\r\n",
        "\r\n",
        "  def display(self):\r\n",
        "    print(\"********FINISH GOOD**********\"+ self.name + \"**************\");\r\n",
        "    print(\"\\n\")\r\n",
        "    print(pd.DataFrame([[self.name, 1, 'pc']],columns = ['Items Description', 'Quantitiy', 'Unit']))\r\n",
        "    print(\"\\n\")\r\n",
        "    print(\"********Raw Material List**********\");\r\n",
        "    print(\"\\n\")\r\n",
        "    print(self.rawMateral);\r\n",
        "    print(\"\\n\")\r\n"
      ],
      "execution_count": 25,
      "outputs": []
    },
    {
      "cell_type": "code",
      "metadata": {
        "id": "lZUoibDqrvNu",
        "colab": {
          "base_uri": "https://localhost:8080/"
        },
        "outputId": "02338721-f50b-459d-c11b-729a42fc2a1f"
      },
      "source": [
        "for item in items:\r\n",
        "   rmDM = pd.DataFrame(getRawMaterialInfo(item, \"0.1\"),columns = ['Items Description', 'Quantitiy', 'Unit'])\r\n",
        "   first = FinishGood(item, rmDM);\r\n",
        "   first.display();\r\n",
        "   rmDM = pd.DataFrame(getRawMaterialInfo(item, \"..2\"),columns = ['Items Description', 'Quantitiy', 'Unit'])\r\n",
        "   first = FinishGood(item, rmDM);\r\n",
        "   first.display();\r\n",
        "\r\n"
      ],
      "execution_count": 19,
      "outputs": [
        {
          "output_type": "stream",
          "text": [
            "********FINISH GOOD**********Fan**************\n",
            "\n",
            "\n",
            "  Items Description  Quantitiy Unit\n",
            "0               Fan          1   pc\n",
            "\n",
            "\n",
            "********Raw Material List**********\n",
            "\n",
            "\n",
            "  Items Description  Quantitiy Unit\n",
            "0             Motor        1.0   PC\n",
            "1            Blades        3.0   PC\n",
            "2            Screws       10.0   PC\n",
            "\n",
            "\n",
            "********FINISH GOOD**********Fan**************\n",
            "\n",
            "\n",
            "  Items Description  Quantitiy Unit\n",
            "0               Fan          1   pc\n",
            "\n",
            "\n",
            "********Raw Material List**********\n",
            "\n",
            "\n",
            "  Items Description  Quantitiy Unit\n",
            "0             Wires       20.0    m\n",
            "1            Plates        2.0   PC\n",
            "\n",
            "\n",
            "********FINISH GOOD**********Toy**************\n",
            "\n",
            "\n",
            "  Items Description  Quantitiy Unit\n",
            "0               Toy          1   pc\n",
            "\n",
            "\n",
            "********Raw Material List**********\n",
            "\n",
            "\n",
            "  Items Description  Quantitiy Unit\n",
            "0     Plastic sheet        1.0  SqM\n",
            "1       Metal Tools        3.0   Pc\n",
            "2     Packaging Box        1.0   Pc\n",
            "\n",
            "\n",
            "********FINISH GOOD**********Toy**************\n",
            "\n",
            "\n",
            "  Items Description  Quantitiy Unit\n",
            "0               Toy          1   pc\n",
            "\n",
            "\n",
            "********Raw Material List**********\n",
            "\n",
            "\n",
            "  Items Description  Quantitiy Unit\n",
            "0        Iron chips       10.0   Pc\n",
            "1    Copper granule        0.5   Kg\n",
            "\n",
            "\n"
          ],
          "name": "stdout"
        }
      ]
    }
  ]
}